{
 "cells": [
  {
   "cell_type": "markdown",
   "metadata": {},
   "source": [
    "## 1."
   ]
  },
  {
   "cell_type": "code",
   "execution_count": null,
   "metadata": {},
   "outputs": [],
   "source": [
    "i:int=1 # se inicializa i en 1\n",
    "if __name__==\"__main__\":\n",
    "    while i<=100: # mientras i sea menor o igual a 100\n",
    "        print(f\"{i} al cuadrado {i**2}\") # imprime i \"al cuadrado es \" i^2\n",
    "        i += 1 # actualiza i como i+1"
   ]
  },
  {
   "cell_type": "markdown",
   "metadata": {},
   "source": [
    "## 2."
   ]
  },
  {
   "cell_type": "code",
   "execution_count": null,
   "metadata": {},
   "outputs": [],
   "source": [
    "i=1 # inicializa i como 1\n",
    "impar:bool=True #inicializa la variable impar como verdadera\n",
    "if __name__==\"__main__\":\n",
    "    while i<=100: # mientras i sea menor o igual a 100\n",
    "        if impar: # condicional si impar (si impar es verdadera)\n",
    "            print(i) # imprimir i \n",
    "            i += 2 # actualizar i como i+2\n",
    "            if i>=100: # si i es mayor o igual a 100\n",
    "                impar = False # actualiza impar como falso\n",
    "                i = 2 # actualiza i como 2\n",
    "        else: # si la condición impar como verdadero no se cumple\n",
    "            print(i) # imprimir i\n",
    "            i+=2 # actualizar i como i+2"
   ]
  },
  {
   "cell_type": "markdown",
   "metadata": {},
   "source": [
    "## 3."
   ]
  },
  {
   "cell_type": "code",
   "execution_count": null,
   "metadata": {},
   "outputs": [],
   "source": [
    "if __name__==\"__main__\":\n",
    "    n=int(input(\"Ingrese un numero: \")) # lee la entrada de teclado como n\n",
    "    print(f\"Números pares menores a {n}\") # imprime un encabezado que dice \"Numeros pares menores a \" n\n",
    "    i=n # inicializa i como n\n",
    "    while i>=1: # mientras i sea mayor o igual a 1\n",
    "        if n%2!=0: # si n no es divisible por 0 (n es impar)\n",
    "            i-= 1 # se actualiza i como i-1\n",
    "        print(i) # se imprime i\n",
    "        i-=2 # actualiza i como i-2"
   ]
  },
  {
   "cell_type": "markdown",
   "metadata": {},
   "source": [
    "## 4."
   ]
  },
  {
   "cell_type": "code",
   "execution_count": null,
   "metadata": {},
   "outputs": [],
   "source": [
    "A:int=25000000 # inicializa la variable A como un entero de 25000000\n",
    "B:int=18900000 # inicializa la variable B como un entero de 18900000\n",
    "i:int=0 # inicializa i como 0\n",
    "if __name__==\"__main__\":\n",
    "    while A>=B: # mientras A sea mayor o igual a B\n",
    "        i += 1 # i se actualza  como i+1\n",
    "        A += (A*0.02) # A se actualiza como A+(A*2%)\n",
    "        B += (B*0.03) # B se actualiza como B+(B*3%)\n",
    "    print(f\"El país B superará al país A en población en {i} años, es decir en {2022+i}\") # imprimir \"El país B superará al país A en población en i años, es decir en 2022+i\"\n"
   ]
  },
  {
   "cell_type": "markdown",
   "metadata": {},
   "source": [
    "## 5."
   ]
  },
  {
   "cell_type": "code",
   "execution_count": null,
   "metadata": {},
   "outputs": [],
   "source": [
    "if __name__==\"__main__\":\n",
    "    n=int(input(\"Ingrese un numero: \")) # n inicializa como la entrada de teclado\n",
    "    i = n-1 # i inicializa como n-1\n",
    "    a=n #a inicializa como n\n",
    "    while i>=1: # mientras i sea mayor o igual a 1\n",
    "        a *= (i) # a se actualiza como a*i\n",
    "        i -= 1 # i se actualiza como i-1\n",
    "    print(f\"El factorial de {n} es igual a {a}\") # imprime \"El factorial de n es igual a a\""
   ]
  },
  {
   "cell_type": "markdown",
   "metadata": {},
   "source": [
    "## 6."
   ]
  },
  {
   "cell_type": "code",
   "execution_count": null,
   "metadata": {},
   "outputs": [],
   "source": [
    "import random as rd # se importa el paquete random como rd\n",
    "n=rd.randint(1, 100) #n se inicializa como un numero random entre 1 y 100\n",
    "bandera:bool=True # se inicializa la bandera\n",
    "if __name__==\"__main__\":\n",
    "    while bandera: #mientras la bandera sea verdadera\n",
    "        g=int(input(\"Ingrese el número que adivinas: \")) # g es igual a la entrada por teclado\n",
    "        if g>n: # si g es mayor a n\n",
    "            print(\"El número es menor\") # imprimir el número es menor\n",
    "        elif g<n: # si g es menor a n\n",
    "            print(\"El número es mayor\") # imprimir el número es mayor\n",
    "        else: # si no\n",
    "            break # romper y salir del ciclo\n",
    "    print(f\"Felicidades, adivinaste el número que era {n}\") # imprimir \"Felicidades, adivinaste el número que era n\""
   ]
  },
  {
   "cell_type": "markdown",
   "metadata": {},
   "source": [
    "## 7."
   ]
  },
  {
   "cell_type": "code",
   "execution_count": null,
   "metadata": {},
   "outputs": [],
   "source": [
    "if __name__==\"__main__\":\n",
    "    n=int(input(\"Ingrese un numero: \")) # n se inicializa igual a la entrada por teclado\n",
    "    i=1 # i se inicializa como 1\n",
    "    print(f\"Los divisores de {n} son: \") # imprimir \"Los divisores de n son: \"\n",
    "    while i<=n: # mientras i sean menor o igual a 1\n",
    "        if n%i==0: # si el residuo de n dividido i es igual a 0\n",
    "            print(i) # imprimir i\n",
    "        i += 1 # i se actualiza como i+1"
   ]
  },
  {
   "cell_type": "markdown",
   "metadata": {},
   "source": [
    "## 8."
   ]
  },
  {
   "cell_type": "code",
   "execution_count": null,
   "metadata": {},
   "outputs": [],
   "source": [
    "def primo (i:int): #se definen los argumentos de la función primo\n",
    "    j=2 # se inicializa j como 2\n",
    "    pr:bool=False # se inicializa pr como falos\n",
    "    while j<i: # mientras j sea mayor a i\n",
    "        if i%j == 0: # si el residuo de i dividido j es igual a 0\n",
    "            pr =False # pr es igual a falso\n",
    "            break # rompe y termina el ciclo\n",
    "        else: # si no\n",
    "            pr= True # se actualiza pr como verdadero\n",
    "        j += 1 # j se actualiza como j+1\n",
    "    return pr # retorna pr\n",
    "if __name__ ==\"__main__\": #Función principal\n",
    "    n=int(input(\"Ingrese un numero: \")) # n es igual a la entrada de teclado\n",
    "    i=1 # se inicializa i como 1\n",
    "    print(f\"Los numeros primos desde 1 hasta {n} son: \") # se imprime \"Los numeros primos desde 1 hasta n son: \"\n",
    "    while i<=n: # mientras i sea menor o igual a n\n",
    "        if primo(i): # si lo que la función primo retorna con el argumento i es verdadero\n",
    "            print(i) # imprime i\n",
    "        i += 1 # i se actualiza como i+1"
   ]
  }
 ],
 "metadata": {
  "kernelspec": {
   "display_name": "Python 3",
   "language": "python",
   "name": "python3"
  },
  "language_info": {
   "codemirror_mode": {
    "name": "ipython",
    "version": 3
   },
   "file_extension": ".py",
   "mimetype": "text/x-python",
   "name": "python",
   "nbconvert_exporter": "python",
   "pygments_lexer": "ipython3",
   "version": "3.11.6"
  }
 },
 "nbformat": 4,
 "nbformat_minor": 2
}
